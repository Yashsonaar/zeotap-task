{
 "cells": [
  {
   "cell_type": "code",
   "execution_count": 3,
   "metadata": {},
   "outputs": [],
   "source": [
    "import pandas as pd\n",
    "from sklearn.metrics.pairwise import cosine_similarity\n",
    "from sklearn.preprocessing import StandardScaler"
   ]
  },
  {
   "cell_type": "markdown",
   "metadata": {},
   "source": [
    "### Feature engineering"
   ]
  },
  {
   "cell_type": "code",
   "execution_count": 4,
   "metadata": {},
   "outputs": [],
   "source": [
    "transactions = pd.read_csv('Transactions.csv')"
   ]
  },
  {
   "cell_type": "code",
   "execution_count": null,
   "metadata": {},
   "outputs": [],
   "source": [
    "customer_features = transactions.groupby('CustomerID').agg({\n",
    "    'Quantity': 'sum',\n",
    "    'TotalValue': 'sum'\n",
    "}).reset_index()\n",
    "\n",
    "# Normalize the features\n",
    "scaler = StandardScaler()\n",
    "features_scaled = scaler.fit_transform(customer_features[['Quantity', 'TotalValue']])\n",
    "\n",
    "# Compute cosine similarity\n",
    "similarity_matrix = cosine_similarity(features_scaled)\n",
    "\n",
    "# Recommend top 3 similar customers for C0001-C0020\n",
    "lookalikes = {}\n",
    "for i in range(20):\n",
    "    customer_id = customer_features.iloc[i]['CustomerID']\n",
    "    similar_indices = similarity_matrix[i].argsort()[::-1][1:4]\n",
    "    lookalikes[customer_id] = [\n",
    "        (customer_features.iloc[j]['CustomerID'], similarity_matrix[i][j]) for j in similar_indices\n",
    "    ]\n",
    "\n",
    "# Save to CSV\n",
    "lookalike_df = pd.DataFrame([\n",
    "    {'CustomerID': cust, 'Lookalikes': lookalikes[cust]} for cust in lookalikes\n",
    "])\n",
    "lookalike_df.to_csv('Yash_Sonar_Lookalike.csv', index=False)\n"
   ]
  }
 ],
 "metadata": {
  "kernelspec": {
   "display_name": "base",
   "language": "python",
   "name": "python3"
  },
  "language_info": {
   "codemirror_mode": {
    "name": "ipython",
    "version": 3
   },
   "file_extension": ".py",
   "mimetype": "text/x-python",
   "name": "python",
   "nbconvert_exporter": "python",
   "pygments_lexer": "ipython3",
   "version": "3.12.7"
  }
 },
 "nbformat": 4,
 "nbformat_minor": 2
}
